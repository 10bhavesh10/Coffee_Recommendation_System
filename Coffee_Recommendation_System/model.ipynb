{
 "cells": [
  {
   "cell_type": "code",
   "execution_count": 1,
   "id": "4e201abe",
   "metadata": {},
   "outputs": [],
   "source": [
    "import numpy as np\n",
    "import pandas as pd\n",
    "import re"
   ]
  },
  {
   "cell_type": "code",
   "execution_count": 2,
   "id": "94d603af",
   "metadata": {},
   "outputs": [],
   "source": [
    "df=pd.read_csv('reviews_feb_2023.csv')"
   ]
  },
  {
   "cell_type": "code",
   "execution_count": 3,
   "id": "685c22c0",
   "metadata": {},
   "outputs": [],
   "source": [
    "df.drop(['with_milk','acidity_structure','bottom_line'],axis=1,inplace=True)"
   ]
  },
  {
   "cell_type": "code",
   "execution_count": 4,
   "id": "bfb7f97c",
   "metadata": {},
   "outputs": [],
   "source": [
    "df['aftertaste'].fillna(df['aftertaste'].median(),inplace=True)"
   ]
  },
  {
   "cell_type": "code",
   "execution_count": 5,
   "id": "f0efd5da",
   "metadata": {},
   "outputs": [],
   "source": [
    "df.fillna(method='bfill',inplace=True)"
   ]
  },
  {
   "cell_type": "code",
   "execution_count": 6,
   "id": "ca649808",
   "metadata": {},
   "outputs": [],
   "source": [
    "df['coffee_origin'].fillna(method='ffill',inplace=True)\n",
    "df['est_price'].fillna(method='bfill',inplace=True)"
   ]
  },
  {
   "cell_type": "code",
   "execution_count": 7,
   "id": "50391080",
   "metadata": {},
   "outputs": [],
   "source": [
    "df.drop('est_price',axis=1,inplace=True)"
   ]
  },
  {
   "cell_type": "code",
   "execution_count": 8,
   "id": "6ea3c756",
   "metadata": {},
   "outputs": [],
   "source": [
    "from sklearn.feature_extraction.text import TfidfVectorizer\n",
    "\n",
    "tfidf=TfidfVectorizer()\n",
    "\n",
    "tfidf_mat=tfidf.fit_transform(df['blind_assessment'])"
   ]
  },
  {
   "cell_type": "code",
   "execution_count": 9,
   "id": "5b3d851d",
   "metadata": {},
   "outputs": [],
   "source": [
    "from sklearn.metrics.pairwise import linear_kernel\n",
    "\n",
    "cosine_sim=linear_kernel(tfidf_mat,tfidf_mat)"
   ]
  },
  {
   "cell_type": "code",
   "execution_count": 10,
   "id": "1064212f",
   "metadata": {},
   "outputs": [],
   "source": [
    "df1=pd.DataFrame(pd.Series(df['blind_assessment'],index=df.index))"
   ]
  },
  {
   "cell_type": "code",
   "execution_count": 11,
   "id": "27539f05",
   "metadata": {},
   "outputs": [],
   "source": [
    "class Recommendation:\n",
    "    def __init__(self):\n",
    "        self.df1=df1\n",
    "        self.cosine_sim=cosine_sim\n",
    "    def recommendation(self,x,a):\n",
    "        ind=self.df1[df1['blind_assessment'].str.contains(x,flags=re.IGNORECASE,regex=True)].index[0]\n",
    "        sim_score=list(enumerate(self.cosine_sim[ind]))\n",
    "        sim_score=sorted(sim_score,key=lambda a:a[1],reverse=True)\n",
    "        sim_score=sim_score[1:a+1]\n",
    "        final_ind=[i[0] for i in sim_score]\n",
    "        return final_ind\n",
    "    def predict(self,x,a):\n",
    "        l1=pd.DataFrame()\n",
    "        ind=self.recommendation(x,a)\n",
    "        l1['title']=df['title'].iloc[ind]\n",
    "        l1['rating']=df['rating'].iloc[ind]\n",
    "        l1['url']=df['url'].iloc[ind]\n",
    "        return l1\n",
    "        \n",
    "        \n"
   ]
  },
  {
   "cell_type": "code",
   "execution_count": null,
   "id": "4a7b5341",
   "metadata": {},
   "outputs": [],
   "source": []
  }
 ],
 "metadata": {
  "kernelspec": {
   "display_name": "Python 3 (ipykernel)",
   "language": "python",
   "name": "python3"
  },
  "language_info": {
   "codemirror_mode": {
    "name": "ipython",
    "version": 3
   },
   "file_extension": ".py",
   "mimetype": "text/x-python",
   "name": "python",
   "nbconvert_exporter": "python",
   "pygments_lexer": "ipython3",
   "version": "3.9.12"
  }
 },
 "nbformat": 4,
 "nbformat_minor": 5
}
